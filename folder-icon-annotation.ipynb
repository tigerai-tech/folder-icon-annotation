{
  "cells": [
    {
      "cell_type": "markdown",
      "metadata": {
        "id": "view-in-github",
        "colab_type": "text"
      },
      "source": [
        "<a href=\"https://colab.research.google.com/github/jimmy-pink/colab-playground/blob/main/side-projects/folder-icon-annotation.ipynb\" target=\"_parent\"><img src=\"https://colab.research.google.com/assets/colab-badge.svg\" alt=\"Open In Colab\"/></a>"
      ]
    },
    {
      "cell_type": "code",
      "id": "initial_id",
      "metadata": {
        "collapsed": true,
        "colab": {
          "base_uri": "https://localhost:8080/"
        },
        "id": "initial_id",
        "outputId": "7f623ea1-b47e-4e42-eefa-59c99cf2ac30"
      },
      "source": [
        "!git clone https://github.com/tigerai-tech/folder-icon-annotation.git"
      ],
      "outputs": [
        {
          "output_type": "stream",
          "name": "stdout",
          "text": [
            "Cloning into 'folder-icon-annotation'...\n",
            "remote: Enumerating objects: 120, done.\u001b[K\n",
            "remote: Counting objects: 100% (120/120), done.\u001b[K\n",
            "remote: Compressing objects: 100% (81/81), done.\u001b[K\n",
            "remote: Total 120 (delta 47), reused 104 (delta 35), pack-reused 0 (from 0)\u001b[K\n",
            "Receiving objects: 100% (120/120), 57.94 KiB | 5.79 MiB/s, done.\n",
            "Resolving deltas: 100% (47/47), done.\n"
          ]
        }
      ],
      "execution_count": 1
    },
    {
      "metadata": {
        "id": "f5f40696841bdbf3"
      },
      "cell_type": "markdown",
      "source": [
        "- 超参数"
      ],
      "id": "f5f40696841bdbf3"
    },
    {
      "metadata": {
        "id": "c9fc4822cc7173f"
      },
      "cell_type": "code",
      "source": [
        "env = \"\"\n",
        "project_root = '/content/folder-icon-annotation'"
      ],
      "id": "c9fc4822cc7173f",
      "outputs": [],
      "execution_count": 3
    },
    {
      "metadata": {
        "id": "496f03f5728d2482"
      },
      "cell_type": "markdown",
      "source": [
        "- 跳转项目目录"
      ],
      "id": "496f03f5728d2482"
    },
    {
      "metadata": {
        "id": "d4c3fe38526c7ef7"
      },
      "cell_type": "code",
      "source": [
        "import os\n",
        "os.chdir(project_root)"
      ],
      "id": "d4c3fe38526c7ef7",
      "outputs": [],
      "execution_count": 4
    },
    {
      "cell_type": "code",
      "source": [
        "! git pull\n",
        "import os\n",
        "import shutil\n",
        "\n",
        "# 删除 __pycache__ 目录\n",
        "shutil.rmtree('__pycache__', ignore_errors=True)"
      ],
      "metadata": {
        "id": "Fuox41sttiDb"
      },
      "id": "Fuox41sttiDb",
      "execution_count": null,
      "outputs": []
    },
    {
      "metadata": {
        "id": "28201ba2c4ff0bc8"
      },
      "cell_type": "markdown",
      "source": [
        "### 开始任务\n",
        "开发环境运行.ipynb可从这里开始"
      ],
      "id": "28201ba2c4ff0bc8"
    },
    {
      "metadata": {
        "ExecuteTime": {
          "end_time": "2025-05-13T12:44:13.541282Z",
          "start_time": "2025-05-13T12:44:13.538997Z"
        },
        "colab": {
          "base_uri": "https://localhost:8080/",
          "height": 35
        },
        "id": "5bc2fd175998bc09",
        "outputId": "5bc7ee8b-fd45-4b80-ca63-7b2e7dbede7a"
      },
      "cell_type": "code",
      "source": [
        "# 开发环境设置为本地\n",
        "import os\n",
        "# 获取当前工作目录\n",
        "project_root = os.getcwd()\n",
        "env = \"\"\n",
        "project_root"
      ],
      "id": "5bc2fd175998bc09",
      "outputs": [
        {
          "output_type": "execute_result",
          "data": {
            "text/plain": [
              "'/content/folder-icon-annotation'"
            ],
            "application/vnd.google.colaboratory.intrinsic+json": {
              "type": "string"
            }
          },
          "metadata": {},
          "execution_count": 5
        }
      ],
      "execution_count": 5
    },
    {
      "metadata": {
        "ExecuteTime": {
          "end_time": "2025-05-13T12:44:15.406265Z",
          "start_time": "2025-05-13T12:44:15.401127Z"
        },
        "id": "4372588cb6847338"
      },
      "cell_type": "code",
      "source": [
        "from src.task_list_flow import TaskListFlow\n",
        "flow = TaskListFlow(env=env, project_root=project_root)"
      ],
      "id": "4372588cb6847338",
      "outputs": [],
      "execution_count": 6
    },
    {
      "cell_type": "markdown",
      "source": [
        "#### 为图片贴标签\n",
        "将图片名称修改为标签后的文件"
      ],
      "metadata": {
        "id": "cIGW48LTxOSr"
      },
      "id": "cIGW48LTxOSr"
    },
    {
      "metadata": {
        "ExecuteTime": {
          "end_time": "2025-05-13T12:45:59.060320Z",
          "start_time": "2025-05-13T12:45:59.057159Z"
        },
        "colab": {
          "base_uri": "https://localhost:8080/"
        },
        "id": "3db85755e426e64b",
        "outputId": "7a0ddfbd-58df-4a73-f468-181cc083bef9"
      },
      "cell_type": "code",
      "source": [
        "# 调整参数\n",
        "flow.config_holder.update_value(\"application\", \"tagger.use_provider\", 'clip')"
      ],
      "id": "3db85755e426e64b",
      "outputs": [
        {
          "output_type": "execute_result",
          "data": {
            "text/plain": [
              "True"
            ]
          },
          "metadata": {},
          "execution_count": 7
        }
      ],
      "execution_count": 7
    },
    {
      "metadata": {
        "ExecuteTime": {
          "end_time": "2025-05-13T12:46:06.987294Z",
          "start_time": "2025-05-13T12:46:00.481649Z"
        },
        "id": "ababab749e766e75"
      },
      "cell_type": "code",
      "outputs": [],
      "execution_count": null,
      "source": [
        "# 设置labeling目录，需要重命名贴标签的图片文件的目录\n",
        "tagging_image_path = \"/content/\"\n",
        "flow.tag_images(image_folder_path=tagging_image_path)"
      ],
      "id": "ababab749e766e75"
    }
  ],
  "metadata": {
    "kernelspec": {
      "display_name": "Python 3",
      "language": "python",
      "name": "python3"
    },
    "language_info": {
      "codemirror_mode": {
        "name": "ipython",
        "version": 2
      },
      "file_extension": ".py",
      "mimetype": "text/x-python",
      "name": "python",
      "nbconvert_exporter": "python",
      "pygments_lexer": "ipython2",
      "version": "2.7.6"
    },
    "colab": {
      "provenance": [],
      "toc_visible": true,
      "include_colab_link": true
    }
  },
  "nbformat": 4,
  "nbformat_minor": 5
}